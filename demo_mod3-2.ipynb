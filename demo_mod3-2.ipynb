{
 "cells": [
  {
   "cell_type": "code",
   "execution_count": 2,
   "metadata": {},
   "outputs": [
    {
     "ename": "ModuleNotFoundError",
     "evalue": "No module named 'selenium'",
     "output_type": "error",
     "traceback": [
      "\u001b[1;31m---------------------------------------------------------------------------\u001b[0m",
      "\u001b[1;31mModuleNotFoundError\u001b[0m                       Traceback (most recent call last)",
      "\u001b[1;32m<ipython-input-2-23b1a894967c>\u001b[0m in \u001b[0;36m<module>\u001b[1;34m\u001b[0m\n\u001b[0;32m      1\u001b[0m \u001b[1;31m#importing required packages\u001b[0m\u001b[1;33m\u001b[0m\u001b[1;33m\u001b[0m\u001b[1;33m\u001b[0m\u001b[0m\n\u001b[1;32m----> 2\u001b[1;33m \u001b[1;32mfrom\u001b[0m \u001b[0mselenium\u001b[0m \u001b[1;32mimport\u001b[0m \u001b[0mwebdriver\u001b[0m\u001b[1;33m\u001b[0m\u001b[1;33m\u001b[0m\u001b[0m\n\u001b[0m\u001b[0;32m      3\u001b[0m \u001b[1;32mfrom\u001b[0m \u001b[0mselenium\u001b[0m\u001b[1;33m.\u001b[0m\u001b[0mwebdriver\u001b[0m\u001b[1;33m.\u001b[0m\u001b[0mcommon\u001b[0m\u001b[1;33m.\u001b[0m\u001b[0mkeys\u001b[0m \u001b[1;32mimport\u001b[0m \u001b[0mKeys\u001b[0m\u001b[1;33m\u001b[0m\u001b[1;33m\u001b[0m\u001b[0m\n\u001b[0;32m      4\u001b[0m \u001b[1;32mfrom\u001b[0m \u001b[0mselenium\u001b[0m\u001b[1;33m.\u001b[0m\u001b[0mwebdriver\u001b[0m\u001b[1;33m.\u001b[0m\u001b[0mchrome\u001b[0m\u001b[1;33m.\u001b[0m\u001b[0moptions\u001b[0m \u001b[1;32mimport\u001b[0m \u001b[0mOptions\u001b[0m\u001b[1;33m\u001b[0m\u001b[1;33m\u001b[0m\u001b[0m\n\u001b[0;32m      5\u001b[0m \u001b[1;32mfrom\u001b[0m \u001b[0mselenium\u001b[0m\u001b[1;33m.\u001b[0m\u001b[0mwebdriver\u001b[0m\u001b[1;33m.\u001b[0m\u001b[0msupport\u001b[0m\u001b[1;33m.\u001b[0m\u001b[0mui\u001b[0m \u001b[1;32mimport\u001b[0m \u001b[0mWebDriverWait\u001b[0m\u001b[1;33m\u001b[0m\u001b[1;33m\u001b[0m\u001b[0m\n",
      "\u001b[1;31mModuleNotFoundError\u001b[0m: No module named 'selenium'"
     ]
    }
   ],
   "source": [
    "#importing required packages\n",
    "from selenium import webdriver\n",
    "from selenium.webdriver.common.keys import Keys\n",
    "from selenium.webdriver.chrome.options import Options\n",
    "from selenium.webdriver.support.ui import WebDriverWait\n",
    "from selenium.webdriver.support import expected_conditions as EC\n",
    "from selenium.webdriver.common.by import By\n",
    "import time"
   ]
  },
  {
   "cell_type": "code",
   "execution_count": null,
   "metadata": {},
   "outputs": [],
   "source": [
    "#adding options on chrome\n",
    "chromeOptions = Options()\n",
    "chromeOptions.add_argument(\"--kiosk\")"
   ]
  },
  {
   "cell_type": "raw",
   "metadata": {},
   "source": [
    "1.a Locating the elements in the form"
   ]
  },
  {
   "cell_type": "code",
   "execution_count": null,
   "metadata": {},
   "outputs": [],
   "source": [
    "driver = webdriver.Chrome(options=chromeOptions)\n",
    "driver.get(\"https://www.pluralsight.com/buy?requestId=1a4d368d-ffd9-4cef-b9b5-85748089216d&priceOptionId=eeb41487-0e8a-46f1-b5c7-0ce91f36e5bd&legacyTrackingId=IND-M-PLUS&time=1565766834152&planId=Individual+plan&quantity=1&analyticsStep=1\")\n",
    "\n",
    "#web driver wait\n",
    "element = WebDriverWait(driver, 10).until(\n",
    "    EC.element_to_be_clickable((By.NAME, \"firstName\")))\n",
    "\n",
    "#first name\n",
    "first_name = driver.find_element_by_name(\"firstName\")\n",
    "first_name.clear()\n",
    "first_name.send_keys(\"John\")\n",
    "\n",
    "#last name\n",
    "last_name = driver.find_element_by_name(\"lastName\")\n",
    "last_name.clear()\n",
    "last_name.send_keys(\"Doe\")\n",
    "\n",
    "#email\n",
    "email = driver.find_element_by_name(\"email\")\n",
    "email.clear()\n",
    "email.send_keys(\"john_is_a_doe@gmail.com\")\n",
    "\n",
    "#confirmation email\n",
    "conf_email = driver.find_element_by_name(\"confirmationEmail\")\n",
    "conf_email.clear()\n",
    "conf_email.send_keys(\"john_is_a_doe@gmail.com\")"
   ]
  },
  {
   "cell_type": "markdown",
   "metadata": {},
   "source": [
    "1.b. Dropdown menu, checkbox & submit"
   ]
  },
  {
   "cell_type": "code",
   "execution_count": null,
   "metadata": {},
   "outputs": [],
   "source": [
    "#country of residence\n",
    "time.sleep(2)\n",
    "country_element = driver.find_element_by_xpath(\"//select[@data-test='country']\")\n",
    "all_options = country_element.find_elements_by_tag_name(\"option\")\n",
    "\n",
    "for options in all_options:\n",
    "    if option.get_attribute(\"value\") ==\"US\":\n",
    "        options.click()\n",
    "        \n",
    "#checkboxes\n",
    "time.sleep(1)\n",
    "checkbox = driver.find_element_by_xpath(\"//div[@role='checkbox']\")\n",
    "checkbox.click()\n",
    "\n",
    "#submit button\n",
    "submit_ele = driver.find_element_by_xpath(\"//button[@data-test='submitButton']\")\n",
    "time.sleep(2)\n",
    "submit_ele.click()"
   ]
  },
  {
   "cell_type": "code",
   "execution_count": null,
   "metadata": {},
   "outputs": [],
   "source": [
    "driver.quit()"
   ]
  },
  {
   "cell_type": "markdown",
   "metadata": {},
   "source": [
    "2.Handling iFrames"
   ]
  },
  {
   "cell_type": "code",
   "execution_count": null,
   "metadata": {},
   "outputs": [],
   "source": [
    "#switch to iframe by name\n",
    "driver.switch_to_frame(\"frameName\")\n",
    "\n",
    "#switch to parent frame\n",
    "driver.switch_to_default_content()"
   ]
  },
  {
   "cell_type": "markdown",
   "metadata": {},
   "source": [
    "3.Handling popups"
   ]
  },
  {
   "cell_type": "code",
   "execution_count": null,
   "metadata": {},
   "outputs": [],
   "source": [
    "popup = driver.switch_to_alert()"
   ]
  }
 ],
 "metadata": {
  "kernelspec": {
   "display_name": "Python 3",
   "language": "python",
   "name": "python3"
  },
  "language_info": {
   "codemirror_mode": {
    "name": "ipython",
    "version": 3
   },
   "file_extension": ".py",
   "mimetype": "text/x-python",
   "name": "python",
   "nbconvert_exporter": "python",
   "pygments_lexer": "ipython3",
   "version": "3.7.3"
  }
 },
 "nbformat": 4,
 "nbformat_minor": 2
}
